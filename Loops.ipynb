{
 "cells": [
  {
   "cell_type": "code",
   "execution_count": 3,
   "id": "4b935a41-e688-4a03-b11f-e79e4c798bd9",
   "metadata": {},
   "outputs": [
    {
     "name": "stdout",
     "output_type": "stream",
     "text": [
      "yam\n",
      "cherry\n",
      "pear\n",
      "fig\n"
     ]
    }
   ],
   "source": [
    "#for loop\n",
    "\n",
    "fruits=['yam','cherry','pear','fig']\n",
    "\n",
    "for x in fruits:\n",
    "    print(x)\n",
    "    "
   ]
  },
  {
   "cell_type": "code",
   "execution_count": 4,
   "id": "715781dd-4190-4538-8a3a-6e3103ca78a3",
   "metadata": {},
   "outputs": [
    {
     "name": "stdout",
     "output_type": "stream",
     "text": [
      "p\n",
      "e\n",
      "a\n",
      "r\n"
     ]
    }
   ],
   "source": [
    "#for loop for the string\n",
    "for x in \"pear\":\n",
    "    print(x)"
   ]
  },
  {
   "cell_type": "code",
   "execution_count": 6,
   "id": "47fc088f-df03-4f28-b24d-c1ed3ed0ea6e",
   "metadata": {},
   "outputs": [
    {
     "name": "stdout",
     "output_type": "stream",
     "text": [
      "yam\n",
      "cherry\n",
      "fig\n"
     ]
    }
   ],
   "source": [
    "#using the break \n",
    "fruits=[\"yam\",\"cherry\",\"fig\",\"pear\"]\n",
    "for x in fruits:\n",
    "    print(x)\n",
    "    if x==\"fig\":\n",
    "        break"
   ]
  },
  {
   "cell_type": "code",
   "execution_count": 7,
   "id": "98b86268-d219-4929-b7c8-4ab2b55df969",
   "metadata": {},
   "outputs": [
    {
     "name": "stdout",
     "output_type": "stream",
     "text": [
      "yam\n",
      "cherry\n",
      "fig\n"
     ]
    }
   ],
   "source": [
    "#using the continue\n",
    "fruits=[\"yam\",\"cherry\",\"pear\",\"fig\"]\n",
    "for x in fruits:\n",
    "    if x == \"pear\":\n",
    "        continue\n",
    "    print(x)"
   ]
  },
  {
   "cell_type": "code",
   "execution_count": 8,
   "id": "54501667-cbb6-4357-803d-9d28c4a8f401",
   "metadata": {},
   "outputs": [
    {
     "name": "stdout",
     "output_type": "stream",
     "text": [
      "0\n",
      "1\n",
      "2\n",
      "3\n"
     ]
    }
   ],
   "source": [
    "#using the range function\n",
    "for x in range(4):\n",
    "    print(x)\n",
    "\n"
   ]
  },
  {
   "cell_type": "code",
   "execution_count": 9,
   "id": "8aef27ce-eef3-4ee9-9c8d-c00d22d78103",
   "metadata": {},
   "outputs": [
    {
     "name": "stdout",
     "output_type": "stream",
     "text": [
      "2\n",
      "5\n",
      "8\n",
      "11\n",
      "14\n",
      "17\n",
      "20\n",
      "23\n",
      "26\n",
      "29\n"
     ]
    }
   ],
   "source": [
    "#increment value is also been added\n",
    "for x in range(2,30,3):\n",
    "    print(x)"
   ]
  },
  {
   "cell_type": "code",
   "execution_count": 12,
   "id": "d38849e4-249b-46c4-bdf9-380b90baa422",
   "metadata": {},
   "outputs": [
    {
     "name": "stdout",
     "output_type": "stream",
     "text": [
      "0\n",
      "1\n",
      "2\n",
      "3\n",
      "4\n",
      "finishes\n"
     ]
    }
   ],
   "source": [
    "#else in for loop\n",
    "for x in range(5):\n",
    "    print(x)\n",
    "else:\n",
    "    print(\"finishes\")"
   ]
  },
  {
   "cell_type": "code",
   "execution_count": 13,
   "id": "6e2ec7f2-1fd3-492e-92e9-bff353b4d621",
   "metadata": {},
   "outputs": [
    {
     "name": "stdout",
     "output_type": "stream",
     "text": [
      "red cherry\n",
      "red fig\n",
      "red pear\n",
      "red yam\n",
      "yellow cherry\n",
      "yellow fig\n",
      "yellow pear\n",
      "yellow yam\n",
      "orange cherry\n",
      "orange fig\n",
      "orange pear\n",
      "orange yam\n",
      "pink cherry\n",
      "pink fig\n",
      "pink pear\n",
      "pink yam\n"
     ]
    }
   ],
   "source": [
    "#nested fro loop\n",
    "col=[\"red\",\"yellow\",\"orange\",\"pink\"]\n",
    "fruits=[\"cherry\",\"fig\",\"pear\",\"yam\"]\n",
    "\n",
    "for x in col:\n",
    "    for y in fruits:\n",
    "        print(x,y)\n",
    "    "
   ]
  },
  {
   "cell_type": "code",
   "execution_count": 15,
   "id": "5000bf4f-ff30-47af-9cc0-2b23790fa4f2",
   "metadata": {},
   "outputs": [],
   "source": [
    "#pass statement\n",
    "#if for loop has no contents then we can use the pass to avoid the error\n",
    "for x in [1,2,3]:\n",
    "    pass"
   ]
  },
  {
   "cell_type": "code",
   "execution_count": 16,
   "id": "27b85847-23ac-4a19-9256-d4043b1d73bb",
   "metadata": {},
   "outputs": [
    {
     "name": "stdout",
     "output_type": "stream",
     "text": [
      "1\n",
      "2\n",
      "3\n",
      "4\n",
      "5\n"
     ]
    }
   ],
   "source": [
    "#while loop \n",
    "i=1\n",
    "while i<6:\n",
    "    print(i)\n",
    "    i+=1"
   ]
  },
  {
   "cell_type": "code",
   "execution_count": 17,
   "id": "1dc1e3fe-42f0-489b-8be7-941f3a8de05e",
   "metadata": {},
   "outputs": [
    {
     "name": "stdout",
     "output_type": "stream",
     "text": [
      "1\n",
      "2\n"
     ]
    }
   ],
   "source": [
    "#using the break\n",
    "i=1\n",
    "while i<5:\n",
    "    print(i)\n",
    "    if i==2:\n",
    "        break\n",
    "    i += 1"
   ]
  },
  {
   "cell_type": "code",
   "execution_count": 1,
   "id": "e76dd752-3389-44a9-8958-fe767063ea78",
   "metadata": {},
   "outputs": [
    {
     "name": "stdout",
     "output_type": "stream",
     "text": [
      "1\n",
      "3\n",
      "4\n",
      "5\n"
     ]
    }
   ],
   "source": [
    "#using the continue\n",
    "i=0\n",
    "while i<5:\n",
    "    i+=1\n",
    "    if i==2:\n",
    "        continue\n",
    "    print(i)"
   ]
  },
  {
   "cell_type": "code",
   "execution_count": null,
   "id": "1e5d5b39-f573-451f-b50d-6b74e8841821",
   "metadata": {},
   "outputs": [],
   "source": []
  },
  {
   "cell_type": "code",
   "execution_count": null,
   "id": "25d997dc-c418-40f8-b81e-819608208b95",
   "metadata": {},
   "outputs": [],
   "source": []
  },
  {
   "cell_type": "code",
   "execution_count": null,
   "id": "baee22ec-ffe2-40a8-924a-537e8f58e54f",
   "metadata": {},
   "outputs": [],
   "source": []
  },
  {
   "cell_type": "code",
   "execution_count": null,
   "id": "82d60877-cb74-4284-afd8-eb6714d6feaa",
   "metadata": {},
   "outputs": [],
   "source": []
  }
 ],
 "metadata": {
  "kernelspec": {
   "display_name": "Python 3 (ipykernel)",
   "language": "python",
   "name": "python3"
  },
  "language_info": {
   "codemirror_mode": {
    "name": "ipython",
    "version": 3
   },
   "file_extension": ".py",
   "mimetype": "text/x-python",
   "name": "python",
   "nbconvert_exporter": "python",
   "pygments_lexer": "ipython3",
   "version": "3.13.5"
  }
 },
 "nbformat": 4,
 "nbformat_minor": 5
}
